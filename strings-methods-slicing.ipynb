{
 "cells": [
  {
   "cell_type": "markdown",
   "metadata": {},
   "source": [
    "# Assignment 4"
   ]
  },
  {
   "cell_type": "markdown",
   "metadata": {},
   "source": [
    "1. Given two strings, s1 and s2, write a program to return a new string made of s1 and s2’s first, middle, and last characters all in capital letters."
   ]
  },
  {
   "cell_type": "code",
   "execution_count": 20,
   "metadata": {},
   "outputs": [
    {
     "name": "stdout",
     "output_type": "stream",
     "text": [
      "IERTMNG\n"
     ]
    }
   ],
   "source": [
    "a = 'interest'\n",
    "b = 'morning'\n",
    "def odd(x):\n",
    "    if x%2 ==1:\n",
    "        return 'true'\n",
    "    else:\n",
    "        return 'false'\n",
    "\n",
    "def middle_character(y):\n",
    "    if odd(len(y)) == 'true':\n",
    "        return (y[len(y)//2])\n",
    "    else:\n",
    "        return (y[(len(y)-1)//2:(len(y)+2)//2])\n",
    "\n",
    "middle_character(a)\n",
    "middle_character(b)\n",
    "a1 = a[0:1]\n",
    "a3 = a[-1:]\n",
    "b1 = b[0:1]\n",
    "b3 = b[-1:]\n",
    "total = a1+middle_character(a)+a3+b1+middle_character(b)+b3\n",
    "answer = total.upper()\n",
    "print(answer)"
   ]
  },
  {
   "cell_type": "markdown",
   "metadata": {},
   "source": [
    "2. Calculate the sum and the averages of the numbers in the following string while ignoring all other characters:\n",
    "\n",
    "    ```aa4a649##aq#2```"
   ]
  },
  {
   "cell_type": "code",
   "execution_count": 66,
   "metadata": {},
   "outputs": [
    {
     "name": "stdout",
     "output_type": "stream",
     "text": [
      "25\n",
      "5.0\n"
     ]
    }
   ],
   "source": [
    "string = 'aa4a649##aq#2'\n",
    "string1 = string.replace('#','')\n",
    "string2 = string1.replace('a','')\n",
    "string3 = string2.replace('q','')\n",
    "x=0\n",
    "for i in string3:\n",
    "    i = int(i)\n",
    "    j = (i*1)\n",
    "    x+=j\n",
    "average = x/len(string3)\n",
    "sum = x\n",
    "print(sum)\n",
    "print(average)"
   ]
  },
  {
   "cell_type": "markdown",
   "metadata": {},
   "source": [
    "3. Extract the last name Culberson from the following legislative action:\n",
    "\n",
    "    ```WORDS TAKEN DOWN - During the course of debate, exception was taken to certain words used and a demand was made to have words taken down. Mr. Culberson asked unanimous consent to withdraw the words. Without objection the words were withdrawn. The House resumed debate on S. 22 .```\n",
    "\n",
    "    **Hint:** use the method [split](https://www.w3schools.com/python/ref_string_split.asp)"
   ]
  },
  {
   "cell_type": "code",
   "execution_count": 106,
   "metadata": {},
   "outputs": [
    {
     "name": "stdout",
     "output_type": "stream",
     "text": [
      " Culberson \n"
     ]
    }
   ],
   "source": [
    "text = 'WORDS TAKEN DOWN - During the course of debate, exception was taken to certain words used and a demand was made to have words taken down. Mr. Culberson asked unanimous consent to withdraw the words. Without objection the words were withdrawn. The House resumed debate on S. 22 .'\n",
    "text.find('Culberson')\n",
    "z = text.split('WORDS TAKEN DOWN - During the course of debate, exception was taken to certain words used and a demand was made to have words taken down. Mr.')\n",
    "z = z[1]\n",
    "z = str(z)\n",
    "z1 = z.split('asked unanimous consent to withdraw the words. Without objection the words were withdrawn. The House resumed debate on S. 22 .')\n",
    "print(z1[0])\n"
   ]
  },
  {
   "cell_type": "markdown",
   "metadata": {},
   "source": [
    "4. Extract the two integers from the following sentence and transform them intro ```int``` type\n",
    "\n",
    "    ```Passed Senate with amendments by Yea-Nay Vote. 73 - 21. Record Vote Number: 3 . (text: CR S430-557 )```"
   ]
  },
  {
   "cell_type": "code",
   "execution_count": 131,
   "metadata": {},
   "outputs": [
    {
     "name": "stdout",
     "output_type": "stream",
     "text": [
      "73 <class 'int'>\n",
      "21 <class 'int'>\n"
     ]
    }
   ],
   "source": [
    "setence = 'Passed Senate with amendments by Yea-Nay Vote. 73 - 21. Record Vote Number: 3 . (text: CR S430-557 )'\n",
    "e = setence.split('Passed Senate with amendments by Yea-Nay Vote. ')\n",
    "e = e[1]\n",
    "e = e.split('. Record Vote Number: 3 . (text: CR S430-557 )')\n",
    "e = e[0]\n",
    "#e = e.replace('-','')\n",
    "e = e.rsplit('-')\n",
    "interger_1 = int(e[0])\n",
    "print(interger_1,type(interger_1))\n",
    "interger_2 = int(e[1])\n",
    "print(interger_2,type(interger_2))\n"
   ]
  }
 ],
 "metadata": {
  "kernelspec": {
   "display_name": "conda_amazonei_mxnet_p36",
   "language": "python",
   "name": "conda_amazonei_mxnet_p36"
  },
  "language_info": {
   "codemirror_mode": {
    "name": "ipython",
    "version": 3
   },
   "file_extension": ".py",
   "mimetype": "text/x-python",
   "name": "python",
   "nbconvert_exporter": "python",
   "pygments_lexer": "ipython3",
   "version": "3.6.13"
  },
  "vscode": {
   "interpreter": {
    "hash": "11838f79d2aaadbfa3a2adfaf35bacdebdb4e8d9b63957ddf298964812544a76"
   }
  }
 },
 "nbformat": 4,
 "nbformat_minor": 4
}
